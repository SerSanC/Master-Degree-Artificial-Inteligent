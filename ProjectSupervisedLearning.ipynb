{
  "nbformat": 4,
  "nbformat_minor": 0,
  "metadata": {
    "colab": {
      "name": "ProjectSupervisedLearning.ipynb",
      "provenance": [],
      "collapsed_sections": [],
      "mount_file_id": "1kYoEukRIiKW6F74YU-vq1tWuGh-cc2Jl",
      "authorship_tag": "ABX9TyOgjncQdJFYImyivAgXkqS9",
      "include_colab_link": true
    },
    "kernelspec": {
      "name": "python3",
      "display_name": "Python 3"
    },
    "language_info": {
      "name": "python"
    },
    "widgets": {
      "application/vnd.jupyter.widget-state+json": {
        "c70f1bb02d364d0d8cecbf7e53b99b2d": {
          "model_module": "@jupyter-widgets/controls",
          "model_name": "HBoxModel",
          "model_module_version": "1.5.0",
          "state": {
            "_view_name": "HBoxView",
            "_dom_classes": [],
            "_model_name": "HBoxModel",
            "_view_module": "@jupyter-widgets/controls",
            "_model_module_version": "1.5.0",
            "_view_count": null,
            "_view_module_version": "1.5.0",
            "box_style": "",
            "layout": "IPY_MODEL_9986ee7b09e741a9a6347174813acffb",
            "_model_module": "@jupyter-widgets/controls",
            "children": [
              "IPY_MODEL_8c51d61c8c224d388f048befd61bbcb8",
              "IPY_MODEL_473940474bd04b7fbc585c3c8239a916",
              "IPY_MODEL_d2e39a2def6345088c1078dc5c327b96"
            ]
          }
        },
        "9986ee7b09e741a9a6347174813acffb": {
          "model_module": "@jupyter-widgets/base",
          "model_name": "LayoutModel",
          "model_module_version": "1.2.0",
          "state": {
            "_view_name": "LayoutView",
            "grid_template_rows": null,
            "right": null,
            "justify_content": null,
            "_view_module": "@jupyter-widgets/base",
            "overflow": null,
            "_model_module_version": "1.2.0",
            "_view_count": null,
            "flex_flow": null,
            "width": null,
            "min_width": null,
            "border": null,
            "align_items": null,
            "bottom": null,
            "_model_module": "@jupyter-widgets/base",
            "top": null,
            "grid_column": null,
            "overflow_y": null,
            "overflow_x": null,
            "grid_auto_flow": null,
            "grid_area": null,
            "grid_template_columns": null,
            "flex": null,
            "_model_name": "LayoutModel",
            "justify_items": null,
            "grid_row": null,
            "max_height": null,
            "align_content": null,
            "visibility": null,
            "align_self": null,
            "height": null,
            "min_height": null,
            "padding": null,
            "grid_auto_rows": null,
            "grid_gap": null,
            "max_width": null,
            "order": null,
            "_view_module_version": "1.2.0",
            "grid_template_areas": null,
            "object_position": null,
            "object_fit": null,
            "grid_auto_columns": null,
            "margin": null,
            "display": null,
            "left": null
          }
        },
        "8c51d61c8c224d388f048befd61bbcb8": {
          "model_module": "@jupyter-widgets/controls",
          "model_name": "HTMLModel",
          "model_module_version": "1.5.0",
          "state": {
            "_view_name": "HTMLView",
            "style": "IPY_MODEL_8aa12ce958dd481795e8ab0261c9dfbb",
            "_dom_classes": [],
            "description": "",
            "_model_name": "HTMLModel",
            "placeholder": "​",
            "_view_module": "@jupyter-widgets/controls",
            "_model_module_version": "1.5.0",
            "value": "100%",
            "_view_count": null,
            "_view_module_version": "1.5.0",
            "description_tooltip": null,
            "_model_module": "@jupyter-widgets/controls",
            "layout": "IPY_MODEL_1fbb296652c54f5f9f060a94a143f156"
          }
        },
        "473940474bd04b7fbc585c3c8239a916": {
          "model_module": "@jupyter-widgets/controls",
          "model_name": "FloatProgressModel",
          "model_module_version": "1.5.0",
          "state": {
            "_view_name": "ProgressView",
            "style": "IPY_MODEL_d3a86af1d4054a90b3b285f97f0c6c6f",
            "_dom_classes": [],
            "description": "",
            "_model_name": "FloatProgressModel",
            "bar_style": "success",
            "max": 87319819,
            "_view_module": "@jupyter-widgets/controls",
            "_model_module_version": "1.5.0",
            "value": 87319819,
            "_view_count": null,
            "_view_module_version": "1.5.0",
            "orientation": "horizontal",
            "min": 0,
            "description_tooltip": null,
            "_model_module": "@jupyter-widgets/controls",
            "layout": "IPY_MODEL_70e210b7c69a47e9a4728e26b999618e"
          }
        },
        "d2e39a2def6345088c1078dc5c327b96": {
          "model_module": "@jupyter-widgets/controls",
          "model_name": "HTMLModel",
          "model_module_version": "1.5.0",
          "state": {
            "_view_name": "HTMLView",
            "style": "IPY_MODEL_e64388e79db24cc0bace3a6b62d66130",
            "_dom_classes": [],
            "description": "",
            "_model_name": "HTMLModel",
            "placeholder": "​",
            "_view_module": "@jupyter-widgets/controls",
            "_model_module_version": "1.5.0",
            "value": " 83.3M/83.3M [00:01&lt;00:00, 62.3MB/s]",
            "_view_count": null,
            "_view_module_version": "1.5.0",
            "description_tooltip": null,
            "_model_module": "@jupyter-widgets/controls",
            "layout": "IPY_MODEL_d4084b7ed43a4580a00562c424389b19"
          }
        },
        "8aa12ce958dd481795e8ab0261c9dfbb": {
          "model_module": "@jupyter-widgets/controls",
          "model_name": "DescriptionStyleModel",
          "model_module_version": "1.5.0",
          "state": {
            "_view_name": "StyleView",
            "_model_name": "DescriptionStyleModel",
            "description_width": "",
            "_view_module": "@jupyter-widgets/base",
            "_model_module_version": "1.5.0",
            "_view_count": null,
            "_view_module_version": "1.2.0",
            "_model_module": "@jupyter-widgets/controls"
          }
        },
        "1fbb296652c54f5f9f060a94a143f156": {
          "model_module": "@jupyter-widgets/base",
          "model_name": "LayoutModel",
          "model_module_version": "1.2.0",
          "state": {
            "_view_name": "LayoutView",
            "grid_template_rows": null,
            "right": null,
            "justify_content": null,
            "_view_module": "@jupyter-widgets/base",
            "overflow": null,
            "_model_module_version": "1.2.0",
            "_view_count": null,
            "flex_flow": null,
            "width": null,
            "min_width": null,
            "border": null,
            "align_items": null,
            "bottom": null,
            "_model_module": "@jupyter-widgets/base",
            "top": null,
            "grid_column": null,
            "overflow_y": null,
            "overflow_x": null,
            "grid_auto_flow": null,
            "grid_area": null,
            "grid_template_columns": null,
            "flex": null,
            "_model_name": "LayoutModel",
            "justify_items": null,
            "grid_row": null,
            "max_height": null,
            "align_content": null,
            "visibility": null,
            "align_self": null,
            "height": null,
            "min_height": null,
            "padding": null,
            "grid_auto_rows": null,
            "grid_gap": null,
            "max_width": null,
            "order": null,
            "_view_module_version": "1.2.0",
            "grid_template_areas": null,
            "object_position": null,
            "object_fit": null,
            "grid_auto_columns": null,
            "margin": null,
            "display": null,
            "left": null
          }
        },
        "d3a86af1d4054a90b3b285f97f0c6c6f": {
          "model_module": "@jupyter-widgets/controls",
          "model_name": "ProgressStyleModel",
          "model_module_version": "1.5.0",
          "state": {
            "_view_name": "StyleView",
            "_model_name": "ProgressStyleModel",
            "description_width": "",
            "_view_module": "@jupyter-widgets/base",
            "_model_module_version": "1.5.0",
            "_view_count": null,
            "_view_module_version": "1.2.0",
            "bar_color": null,
            "_model_module": "@jupyter-widgets/controls"
          }
        },
        "70e210b7c69a47e9a4728e26b999618e": {
          "model_module": "@jupyter-widgets/base",
          "model_name": "LayoutModel",
          "model_module_version": "1.2.0",
          "state": {
            "_view_name": "LayoutView",
            "grid_template_rows": null,
            "right": null,
            "justify_content": null,
            "_view_module": "@jupyter-widgets/base",
            "overflow": null,
            "_model_module_version": "1.2.0",
            "_view_count": null,
            "flex_flow": null,
            "width": null,
            "min_width": null,
            "border": null,
            "align_items": null,
            "bottom": null,
            "_model_module": "@jupyter-widgets/base",
            "top": null,
            "grid_column": null,
            "overflow_y": null,
            "overflow_x": null,
            "grid_auto_flow": null,
            "grid_area": null,
            "grid_template_columns": null,
            "flex": null,
            "_model_name": "LayoutModel",
            "justify_items": null,
            "grid_row": null,
            "max_height": null,
            "align_content": null,
            "visibility": null,
            "align_self": null,
            "height": null,
            "min_height": null,
            "padding": null,
            "grid_auto_rows": null,
            "grid_gap": null,
            "max_width": null,
            "order": null,
            "_view_module_version": "1.2.0",
            "grid_template_areas": null,
            "object_position": null,
            "object_fit": null,
            "grid_auto_columns": null,
            "margin": null,
            "display": null,
            "left": null
          }
        },
        "e64388e79db24cc0bace3a6b62d66130": {
          "model_module": "@jupyter-widgets/controls",
          "model_name": "DescriptionStyleModel",
          "model_module_version": "1.5.0",
          "state": {
            "_view_name": "StyleView",
            "_model_name": "DescriptionStyleModel",
            "description_width": "",
            "_view_module": "@jupyter-widgets/base",
            "_model_module_version": "1.5.0",
            "_view_count": null,
            "_view_module_version": "1.2.0",
            "_model_module": "@jupyter-widgets/controls"
          }
        },
        "d4084b7ed43a4580a00562c424389b19": {
          "model_module": "@jupyter-widgets/base",
          "model_name": "LayoutModel",
          "model_module_version": "1.2.0",
          "state": {
            "_view_name": "LayoutView",
            "grid_template_rows": null,
            "right": null,
            "justify_content": null,
            "_view_module": "@jupyter-widgets/base",
            "overflow": null,
            "_model_module_version": "1.2.0",
            "_view_count": null,
            "flex_flow": null,
            "width": null,
            "min_width": null,
            "border": null,
            "align_items": null,
            "bottom": null,
            "_model_module": "@jupyter-widgets/base",
            "top": null,
            "grid_column": null,
            "overflow_y": null,
            "overflow_x": null,
            "grid_auto_flow": null,
            "grid_area": null,
            "grid_template_columns": null,
            "flex": null,
            "_model_name": "LayoutModel",
            "justify_items": null,
            "grid_row": null,
            "max_height": null,
            "align_content": null,
            "visibility": null,
            "align_self": null,
            "height": null,
            "min_height": null,
            "padding": null,
            "grid_auto_rows": null,
            "grid_gap": null,
            "max_width": null,
            "order": null,
            "_view_module_version": "1.2.0",
            "grid_template_areas": null,
            "object_position": null,
            "object_fit": null,
            "grid_auto_columns": null,
            "margin": null,
            "display": null,
            "left": null
          }
        }
      }
    }
  },
  "cells": [
    {
      "cell_type": "markdown",
      "metadata": {
        "id": "view-in-github",
        "colab_type": "text"
      },
      "source": [
        "<a href=\"https://colab.research.google.com/github/SerSanC/Master-Degree-Artificial-Inteligent/blob/main/ProjectSupervisedLearning.ipynb\" target=\"_parent\"><img src=\"https://colab.research.google.com/assets/colab-badge.svg\" alt=\"Open In Colab\"/></a>"
      ]
    },
    {
      "cell_type": "markdown",
      "source": [
        "# 1.- Preprocessing"
      ],
      "metadata": {
        "id": "Y4tQ26lwD9GT"
      }
    },
    {
      "cell_type": "code",
      "execution_count": 1,
      "metadata": {
        "id": "nRylKtVMSnK2"
      },
      "outputs": [],
      "source": [
        "import os\n",
        "import glob\n",
        "import numpy as np\n",
        "import pandas as pd\n",
        "import seaborn as sns\n",
        "import matplotlib.pyplot as plt\n",
        "from google.colab import files\n",
        "from sklearn.model_selection import train_test_split\n",
        "import torchvision\n",
        "from torch.utils.data import DataLoader\n",
        "from google.colab import drive\n",
        "import random\n",
        "import shutil\n",
        "import matplotlib.pyplot as plt\n",
        "import torch\n",
        "from torchvision import datasets, transforms\n",
        "import helper"
      ]
    },
    {
      "cell_type": "code",
      "source": [
        "drive.mount('/content/drive')"
      ],
      "metadata": {
        "colab": {
          "base_uri": "https://localhost:8080/"
        },
        "id": "5u7Avt50TBFp",
        "outputId": "998617c5-786b-4975-c297-1c15b1ea8ca0"
      },
      "execution_count": 2,
      "outputs": [
        {
          "output_type": "stream",
          "name": "stdout",
          "text": [
            "Drive already mounted at /content/drive; to attempt to forcibly remount, call drive.mount(\"/content/drive\", force_remount=True).\n"
          ]
        }
      ]
    },
    {
      "cell_type": "code",
      "source": [
        "base_dir = '/content/drive/MyDrive/Colab Notebooks/Datos/archive/femaleeyes'"
      ],
      "metadata": {
        "id": "xg_xKfXsAeiL"
      },
      "execution_count": 3,
      "outputs": []
    },
    {
      "cell_type": "code",
      "source": [
        "len(os.listdir(base_dir))\n",
        "#Creamos nuevas carpetas para cats\n",
        "test_female_eyes = '/content/drive/MyDrive/Colab Notebooks/Datos/archive/female_eyes_dataset/test'\n",
        "os.makedirs(test_female_eyes, exist_ok=True)\n",
        "\n",
        "#Creamos nuevas carpetas para dogs\n",
        "test_male_eyes = '/content/drive/MyDrive/Colab Notebooks/Datos/archive/male_eyes_dataset/test'\n",
        "os.makedirs(test_male_eyes, exist_ok=True)\n",
        "\n",
        "train_female_eyes = '/content/drive/MyDrive/Colab Notebooks/Datos/archive/female_eyes_dataset/train'\n",
        "os.makedirs(train_female_eyes, exist_ok=True)\n",
        "\n",
        "#Creamos nuevas carpetas para dogs\n",
        "train_male_eyes = '/content/drive/MyDrive/Colab Notebooks/Datos/archive/male_eyes_dataset/train'\n",
        "os.makedirs(train_male_eyes, exist_ok=True)"
      ],
      "metadata": {
        "id": "fQuwOApai9oO"
      },
      "execution_count": 4,
      "outputs": []
    },
    {
      "cell_type": "code",
      "source": [
        "len(os.listdir(base_dir))"
      ],
      "metadata": {
        "colab": {
          "base_uri": "https://localhost:8080/"
        },
        "id": "5gJm-_gbjX5k",
        "outputId": "9e482b9a-7ffc-4e3f-e83c-b817c6c621e5"
      },
      "execution_count": 5,
      "outputs": [
        {
          "output_type": "execute_result",
          "data": {
            "text/plain": [
              "5203"
            ]
          },
          "metadata": {},
          "execution_count": 5
        }
      ]
    },
    {
      "cell_type": "code",
      "source": [
        "\n",
        "for fname in random.sample(os.listdir(base_dir),int((len(os.listdir(base_dir)))* 0.7)):\n",
        "  shutil.move(f\"{base_dir}/{fname}\", f\"/content/drive/MyDrive/Colab Notebooks/Datos/archive/female_eyes_dataset/train/{fname}\") \n",
        "\n",
        "for fname in random.sample(os.listdir(base_dir),int((len(os.listdir(base_dir))))):\n",
        "  shutil.move(f\"{base_dir}/{fname}\", f\"/content/drive/MyDrive/Colab Notebooks/Datos/archive/female_eyes_dataset/test/{fname}\") "
      ],
      "metadata": {
        "id": "LWo7nWcHBzcC"
      },
      "execution_count": 6,
      "outputs": []
    },
    {
      "cell_type": "code",
      "source": [
        "\n",
        "for fname in random.sample(os.listdir(base_dir),int((len(os.listdir(base_dir)))* 0.7)):\n",
        "  shutil.move(f\"{base_dir}/{fname}\", f\"/content/drive/MyDrive/Colab Notebooks/Datos/archive/male_eyes_dataset/train/{fname}\") \n",
        "\n"
      ],
      "metadata": {
        "id": "r0i0apGrnKYN"
      },
      "execution_count": 8,
      "outputs": []
    },
    {
      "cell_type": "code",
      "source": [
        "len(os.listdir(base_dir))"
      ],
      "metadata": {
        "colab": {
          "base_uri": "https://localhost:8080/"
        },
        "id": "E0u78nWlN1Q3",
        "outputId": "f96604c6-d1b2-48dc-c4e2-021b7f4aa29e"
      },
      "execution_count": 7,
      "outputs": [
        {
          "output_type": "execute_result",
          "data": {
            "text/plain": [
              "0"
            ]
          },
          "metadata": {},
          "execution_count": 7
        }
      ]
    },
    {
      "cell_type": "code",
      "source": [
        "for fname in random.sample(os.listdir(base_dir),int((len(os.listdir(base_dir))))):\n",
        "  shutil.move(f\"{base_dir}/{fname}\", f\"/content/drive/MyDrive/Colab Notebooks/Datos/archive/male_eyes_dataset/test/{fname}\") "
      ],
      "metadata": {
        "id": "3r-ujCuRNz3t"
      },
      "execution_count": 11,
      "outputs": []
    },
    {
      "cell_type": "code",
      "source": [
        "int((len(os.listdir(\"/content/drive/MyDrive/Colab Notebooks/Datos/archive/male_eyes_dataset/test/\"))))"
      ],
      "metadata": {
        "colab": {
          "base_uri": "https://localhost:8080/"
        },
        "id": "E52gNw6hOxwv",
        "outputId": "ea58b703-5983-4b42-ed88-de78aeadc0bd"
      },
      "execution_count": 16,
      "outputs": [
        {
          "output_type": "execute_result",
          "data": {
            "text/plain": [
              "1898"
            ]
          },
          "metadata": {},
          "execution_count": 16
        }
      ]
    },
    {
      "cell_type": "code",
      "source": [
        "len(os.listdir(base_dir))"
      ],
      "metadata": {
        "colab": {
          "base_uri": "https://localhost:8080/"
        },
        "id": "In6GIQEPOIH_",
        "outputId": "e04e1bca-dfe7-41df-a386-d44778d46989"
      },
      "execution_count": 12,
      "outputs": [
        {
          "output_type": "execute_result",
          "data": {
            "text/plain": [
              "0"
            ]
          },
          "metadata": {},
          "execution_count": 12
        }
      ]
    },
    {
      "cell_type": "code",
      "source": [
        "%matplotlib inline\n",
        "%config InlineBackend.figure_format = 'retina'\n",
        "\n",
        "base_dir = \"/content/drive/MyDrive/Colab Notebooks/Datos/archive/female_eyes_dataset/\"\n",
        "\n",
        "\n",
        "transform = transforms.Compose([transforms.Resize(255),\n",
        "                                 transforms.CenterCrop(224),\n",
        "                                 transforms.ToTensor(),\n",
        "                                 transforms.Normalize((0.5, 0.5, 0.5),\n",
        "                                                     (0.5, 0.5, 0.5))])\n",
        "\n",
        "\n",
        "dataset = datasets.ImageFolder(base_dir,transform = transform)\n",
        "\n",
        "dataset"
      ],
      "metadata": {
        "colab": {
          "base_uri": "https://localhost:8080/"
        },
        "id": "SkRcdUqqq4cJ",
        "outputId": "f1b9992c-5359-4294-f8eb-9ce005a05e75"
      },
      "execution_count": 8,
      "outputs": [
        {
          "output_type": "execute_result",
          "data": {
            "text/plain": [
              "Dataset ImageFolder\n",
              "    Number of datapoints: 5202\n",
              "    Root location: /content/drive/MyDrive/Colab Notebooks/Datos/archive/female_eyes_dataset/\n",
              "    StandardTransform\n",
              "Transform: Compose(\n",
              "               Resize(size=255, interpolation=bilinear, max_size=None, antialias=None)\n",
              "               CenterCrop(size=(224, 224))\n",
              "               ToTensor()\n",
              "               Normalize(mean=(0.5, 0.5, 0.5), std=(0.5, 0.5, 0.5))\n",
              "           )"
            ]
          },
          "metadata": {},
          "execution_count": 8
        }
      ]
    },
    {
      "cell_type": "code",
      "source": [
        "classes = dataset.classes\n",
        "data_loader = DataLoader(dataset, batch_size=20, shuffle=True)"
      ],
      "metadata": {
        "id": "9gclPgwz6E2u"
      },
      "execution_count": 9,
      "outputs": []
    },
    {
      "cell_type": "code",
      "source": [
        "from torch.utils.data import random_split\n",
        "\n",
        "train_set, test_set = random_split(dataset, (int(len(dataset) * 0.7) + 1, int(len(dataset) * 0.3)))\n",
        "train_set, valid_set = random_split(train_set, (int(len(train_set) * 0.7) + 1, int(len(train_set) * 0.3)))\n",
        "\n",
        "train_set"
      ],
      "metadata": {
        "colab": {
          "base_uri": "https://localhost:8080/"
        },
        "id": "Tx9CURjk6RJ9",
        "outputId": "2020668e-c4cc-42ae-8bfe-02e100268e4a"
      },
      "execution_count": 10,
      "outputs": [
        {
          "output_type": "execute_result",
          "data": {
            "text/plain": [
              "<torch.utils.data.dataset.Subset at 0x7f0538e04bd0>"
            ]
          },
          "metadata": {},
          "execution_count": 10
        }
      ]
    },
    {
      "cell_type": "code",
      "source": [
        "train_loader = DataLoader(train_set, batch_size=64)\n",
        "valid_loader = DataLoader(valid_set, batch_size=1)\n",
        "test_loader = DataLoader(test_set, batch_size=1)"
      ],
      "metadata": {
        "id": "O_Vhcpr4oLW3"
      },
      "execution_count": 11,
      "outputs": []
    },
    {
      "cell_type": "code",
      "source": [
        "import torch\n",
        "import torch.nn as nn\n",
        "import torch.nn.functional as F\n",
        "\n",
        "\n",
        "class Net(nn.Module):\n",
        "\n",
        "    def __init__(self):\n",
        "        super(Net, self).__init__()\n",
        "        self.conv1 = nn.Conv2d(3, 6, 3)\n",
        "        self.conv2 = nn.Conv2d(6, 16, 3)\n",
        "        self.fc1 = nn.Linear(46656, 120)\n",
        "        self.fc2 = nn.Linear(120, 84)\n",
        "        self.fc3 = nn.Linear(84, 5)\n",
        "\n",
        "    def forward(self, x):\n",
        "        x = F.max_pool2d(F.relu(self.conv1(x)), (2, 2))\n",
        "        x = F.max_pool2d(F.relu(self.conv2(x)), 2)\n",
        "        x = x.view(-1, self.num_flat_features(x))\n",
        "        x = F.relu(self.fc1(x))\n",
        "        x = F.relu(self.fc2(x))\n",
        "        x = self.fc3(x)\n",
        "        return x\n",
        "\n",
        "    def num_flat_features(self, x):\n",
        "        size = x.size()[1:]\n",
        "        num_features = 1\n",
        "        for s in size:\n",
        "            num_features *= s\n",
        "        return num_features"
      ],
      "metadata": {
        "id": "U6VPF6l_oP5g"
      },
      "execution_count": 12,
      "outputs": []
    },
    {
      "cell_type": "code",
      "source": [
        "from torch.optim import Adam\n",
        "device = torch.device(\"cuda:0\" if torch.cuda.is_available() else \"cpu\")\n",
        "\n",
        "cnn = Net().to(device)\n",
        "\n",
        "criterion = nn.CrossEntropyLoss()\n",
        "# params = cnn.resnet.fc.parameters()\n",
        "params = cnn.parameters()\n",
        "optimizer = Adam(params, lr=0.003)"
      ],
      "metadata": {
        "id": "j89t4qx-qPha"
      },
      "execution_count": 13,
      "outputs": []
    },
    {
      "cell_type": "code",
      "source": [
        "def train_model(model, train_loader, valid_loader, criterion, optimizer, device):\n",
        "  total_step = len(train_loader)\n",
        "  num_epochs = 10\n",
        "\n",
        "  for epoch in range(num_epochs):\n",
        "    train_loss = 0.0\n",
        "    valid_loss = 0.0\n",
        "\n",
        "    model.train()\n",
        "    for i, (img, target) in enumerate(train_loader):\n",
        "      img = img.to(device)\n",
        "      target = target.to(device)\n",
        "\n",
        "      optimizer.zero_grad()\n",
        "\n",
        "      output = model(img)\n",
        "      \n",
        "\n",
        "      loss = criterion(output, target)\n",
        "\n",
        "      loss.backward()\n",
        "      optimizer.step()\n",
        "\n",
        "      train_loss += loss.item() * img.size(0)\n",
        "\n",
        "    model.eval()\n",
        "    for data, target in test_loader:\n",
        "      data, target = data.to(device), target.to(device)\n",
        "      output = model(data)\n",
        "      loss = criterion(output, target)\n",
        "      valid_loss += loss.item() * data.size(0)\n",
        "    train_loss = train_loss / len(train_loader.sampler)\n",
        "    valid_loss = valid_loss / len(valid_loader.sampler)\n",
        "\n",
        "    print('Epoch: {} \\tTraining Loss: {:.6f} \\tValidation Loss: {:.6f}'.format(\n",
        "          epoch, train_loss, valid_loss))"
      ],
      "metadata": {
        "id": "ohiZ6oZKqUUz"
      },
      "execution_count": 14,
      "outputs": []
    },
    {
      "cell_type": "code",
      "source": [
        "model = train_model(cnn, train_loader, valid_loader, criterion, optimizer, device)"
      ],
      "metadata": {
        "colab": {
          "base_uri": "https://localhost:8080/"
        },
        "id": "6RsTPBkvqYOs",
        "outputId": "d6754517-5c3a-4d48-f77d-e1b248240161"
      },
      "execution_count": 15,
      "outputs": [
        {
          "output_type": "stream",
          "name": "stdout",
          "text": [
            "Epoch: 0 \tTraining Loss: 0.751302 \tValidation Loss: 0.866672\n",
            "Epoch: 1 \tTraining Loss: 0.615403 \tValidation Loss: 0.867364\n",
            "Epoch: 2 \tTraining Loss: 0.613772 \tValidation Loss: 0.866877\n",
            "Epoch: 3 \tTraining Loss: 0.610276 \tValidation Loss: 0.872598\n",
            "Epoch: 4 \tTraining Loss: 0.609790 \tValidation Loss: 0.871800\n",
            "Epoch: 5 \tTraining Loss: 0.604625 \tValidation Loss: 0.874482\n",
            "Epoch: 6 \tTraining Loss: 0.591423 \tValidation Loss: 0.887244\n",
            "Epoch: 7 \tTraining Loss: 0.565462 \tValidation Loss: 0.926811\n",
            "Epoch: 8 \tTraining Loss: 0.527465 \tValidation Loss: 1.071517\n",
            "Epoch: 9 \tTraining Loss: 0.466590 \tValidation Loss: 1.093759\n"
          ]
        }
      ]
    },
    {
      "cell_type": "code",
      "source": [
        "def global_accuracy(model, test_loader):\n",
        "  correct = 0\n",
        "  total = 0\n",
        "  model.to(\"cpu\")\n",
        "  dataiter = iter(test_loader)\n",
        "  with torch.no_grad():\n",
        "    for data in dataiter:\n",
        "      img, label = data\n",
        "      output = model(img)\n",
        "      _, predicted = torch.max(output.data, 1)\n",
        "      total += label.size(0)\n",
        "      correct += (predicted == label).sum().item()\n",
        "\n",
        "  print(f\"Accuracy: {100 * correct / total}\")\n",
        "\n",
        "def accuracy_per_class(model, test_loader, classes, device):\n",
        "  class_correct = list(0. for i in range(5))\n",
        "  class_total = list(0. for i in range(5))\n",
        "  cnn.to(device)\n",
        "  with torch.no_grad():\n",
        "      for data in test_loader:\n",
        "          images, labels = data\n",
        "          images = images.to(device)\n",
        "          labels = labels.to(device)\n",
        "          outputs = cnn(images)\n",
        "          _, predicted = torch.max(outputs, 1)\n",
        "          c = (predicted == labels).squeeze()\n",
        "          if(c.item()):\n",
        "            class_correct[labels.item()] += 1\n",
        "          class_total[labels.item()] += 1\n",
        "  \n",
        "\n",
        "  accuracy = 0\n",
        "  for i in range(0,2):\n",
        "    print\n",
        "    if int(class_total[i]) == 0:\n",
        "      accuracy = 0\n",
        "    else:\n",
        "      accuracy = float(class_correct[i] / class_total[i])\n",
        "    print(f\"{classes[i]} | Correct: {class_correct[i]} | Total: {class_total[i]}\" +\n",
        "          f\" | Accuracy: {accuracy}\")\n",
        "\n"
      ],
      "metadata": {
        "id": "Po8mYVgDqbGX"
      },
      "execution_count": 41,
      "outputs": []
    },
    {
      "cell_type": "code",
      "source": [
        "global_accuracy(cnn, test_loader)"
      ],
      "metadata": {
        "colab": {
          "base_uri": "https://localhost:8080/"
        },
        "id": "q2tN16lqj-OS",
        "outputId": "a6310221-42f9-4c06-cb93-d511aad135c2"
      },
      "execution_count": 42,
      "outputs": [
        {
          "output_type": "stream",
          "name": "stdout",
          "text": [
            "Accuracy: 59.23076923076923\n"
          ]
        }
      ]
    },
    {
      "cell_type": "code",
      "source": [
        "accuracy_per_class(cnn, test_loader, classes, device)"
      ],
      "metadata": {
        "colab": {
          "base_uri": "https://localhost:8080/"
        },
        "id": "Uyh4vxCFqfqD",
        "outputId": "be87d0be-b943-4310-a963-1266ec512eb5"
      },
      "execution_count": 43,
      "outputs": [
        {
          "output_type": "stream",
          "name": "stdout",
          "text": [
            "test | Correct: 122.0 | Total: 459.0 | Accuracy: 0.2657952069716776\n",
            "train | Correct: 802.0 | Total: 1101.0 | Accuracy: 0.7284287011807448\n"
          ]
        }
      ]
    },
    {
      "cell_type": "code",
      "source": [
        "torch.save(cnn.state_dict(), \"cnn.pt\")"
      ],
      "metadata": {
        "id": "OfacDGWCIio7"
      },
      "execution_count": 46,
      "outputs": []
    },
    {
      "cell_type": "code",
      "source": [
        "\n",
        "model = Net()\n",
        "model.load_state_dict(torch.load('cnn.pt'))"
      ],
      "metadata": {
        "colab": {
          "base_uri": "https://localhost:8080/"
        },
        "id": "6keHtMwLImqe",
        "outputId": "a5217b9e-c74b-4685-cce9-0b0153c642e8"
      },
      "execution_count": 51,
      "outputs": [
        {
          "output_type": "execute_result",
          "data": {
            "text/plain": [
              "<All keys matched successfully>"
            ]
          },
          "metadata": {},
          "execution_count": 51
        }
      ]
    },
    {
      "cell_type": "code",
      "source": [
        "from torchvision import models,transforms\n",
        "\n",
        "class Classifier(nn.Module):\n",
        "  def __init__(self):\n",
        "    super(Classifier, self).__init__()\n",
        "    self.resnet = models.resnet34(pretrained=True)\n",
        "    self.resnet.fc = nn.Linear(self.resnet.fc.in_features,\n",
        "                               5)\n",
        "\n",
        "  def forward(self, image):\n",
        "    output = self.resnet(image)\n",
        "    return output"
      ],
      "metadata": {
        "id": "Dhp52cBijNGb"
      },
      "execution_count": 52,
      "outputs": []
    },
    {
      "cell_type": "code",
      "source": [
        "from torch.optim import Adam\n",
        "\n",
        "cnn = Classifier().to(device)\n",
        "\n",
        "criterion = nn.CrossEntropyLoss()\n",
        "params = cnn.resnet.fc.parameters()\n",
        "optimizer = Adam(params, lr=0.003)\n",
        "\n",
        "train_model(cnn, train_loader, valid_loader, criterion, optimizer, device)\n",
        "global_accuracy(cnn, test_loader)\n",
        "accuracy_per_class(cnn, test_loader, classes, device)"
      ],
      "metadata": {
        "colab": {
          "base_uri": "https://localhost:8080/",
          "height": 319,
          "referenced_widgets": [
            "c70f1bb02d364d0d8cecbf7e53b99b2d",
            "9986ee7b09e741a9a6347174813acffb",
            "8c51d61c8c224d388f048befd61bbcb8",
            "473940474bd04b7fbc585c3c8239a916",
            "d2e39a2def6345088c1078dc5c327b96",
            "8aa12ce958dd481795e8ab0261c9dfbb",
            "1fbb296652c54f5f9f060a94a143f156",
            "d3a86af1d4054a90b3b285f97f0c6c6f",
            "70e210b7c69a47e9a4728e26b999618e",
            "e64388e79db24cc0bace3a6b62d66130",
            "d4084b7ed43a4580a00562c424389b19"
          ]
        },
        "id": "0brtXCwdINHN",
        "outputId": "c9134761-8750-4650-cce5-81ba2e3941b8"
      },
      "execution_count": 53,
      "outputs": [
        {
          "output_type": "stream",
          "name": "stderr",
          "text": [
            "Downloading: \"https://download.pytorch.org/models/resnet34-b627a593.pth\" to /root/.cache/torch/hub/checkpoints/resnet34-b627a593.pth\n"
          ]
        },
        {
          "output_type": "display_data",
          "data": {
            "application/vnd.jupyter.widget-view+json": {
              "model_id": "c70f1bb02d364d0d8cecbf7e53b99b2d",
              "version_minor": 0,
              "version_major": 2
            },
            "text/plain": [
              "  0%|          | 0.00/83.3M [00:00<?, ?B/s]"
            ]
          },
          "metadata": {}
        },
        {
          "output_type": "stream",
          "name": "stdout",
          "text": [
            "Epoch: 0 \tTraining Loss: 0.695492 \tValidation Loss: 0.882129\n",
            "Epoch: 1 \tTraining Loss: 0.619963 \tValidation Loss: 0.906040\n",
            "Epoch: 2 \tTraining Loss: 0.606183 \tValidation Loss: 0.920572\n",
            "Epoch: 3 \tTraining Loss: 0.597417 \tValidation Loss: 0.930184\n",
            "Epoch: 4 \tTraining Loss: 0.590702 \tValidation Loss: 0.937863\n",
            "Epoch: 5 \tTraining Loss: 0.585424 \tValidation Loss: 0.944340\n",
            "Epoch: 6 \tTraining Loss: 0.581130 \tValidation Loss: 0.950022\n",
            "Epoch: 7 \tTraining Loss: 0.577546 \tValidation Loss: 0.955125\n",
            "Epoch: 8 \tTraining Loss: 0.574491 \tValidation Loss: 0.959780\n",
            "Epoch: 9 \tTraining Loss: 0.571840 \tValidation Loss: 0.964071\n",
            "Accuracy: 69.23076923076923\n",
            "test | Correct: 18.0 | Total: 459.0 | Accuracy: 0.0392156862745098\n",
            "train | Correct: 1062.0 | Total: 1101.0 | Accuracy: 0.9645776566757494\n"
          ]
        }
      ]
    }
  ]
}